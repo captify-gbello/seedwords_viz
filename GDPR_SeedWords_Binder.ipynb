{
 "cells": [
  {
   "cell_type": "markdown",
   "metadata": {},
   "source": [
    "#### Just run code block below"
   ]
  },
  {
   "cell_type": "code",
   "execution_count": null,
   "metadata": {},
   "outputs": [],
   "source": [
    "import pandas as pd\n",
    "import matplotlib\n",
    "import matplotlib.pyplot as plt\n",
    "from sklearn.manifold import TSNE\n",
    "from sklearn.decomposition import PCA\n",
    "import plotly.express as px\n",
    "import plotly.graph_objs as go\n",
    "%matplotlib inline\n",
    "\n",
    "seed_set_files = [\"files/GDPR_Seeds_Ethnicity_wFTembs_newCC.csv\",\n",
    "                  \"files/GDPR_SeedsSexLife_wFTembs_newCC.csv\",\n",
    "                  \"files/GDPR_SeedsReligion_wFTembs_newCC.csv\",\n",
    "                  \"files/GDPR_SeedsPoliticsTradeUnion_wFTembs_newCC.csv\"]\n",
    "\n",
    "#load and concatenate seed word files containing embeddings\n",
    "dat_seeds = pd.concat([pd.read_csv(f) for f in seed_set_files], axis=0)\n",
    "\n",
    "#dimensionality reduction\n",
    "dat_seeds_dim3_df = pd.DataFrame(PCA(n_components=3).fit_transform(dat_seeds.filter(regex=\"embfull_dim\", axis=1)), columns=[\"pc1\",\"pc2\",\"pc3\"])\n",
    "dat_seeds_dim3_df['category'] = dat_seeds.Category.values\n",
    "dat_seeds_dim3_df['term'] = dat_seeds.Term.values\n",
    "dat_seeds_dim3_df.head()\n",
    "\n",
    "#plot\n",
    "palette = px.colors.qualitative.Dark2+px.colors.qualitative.Dark24+ \\\n",
    "          px.colors.qualitative.Light24+px.colors.qualitative.Vivid\n",
    "colormap = {cat:palette[i] for i,cat in enumerate(dat_seeds_dim3_df.category.unique()) }\n",
    "def plot3D(df,hover,label):\n",
    "    fig = px.scatter_3d(df, x='pc1', y='pc2', z='pc3',size=[3]*len(df),size_max=7,hover_name=hover,\n",
    "                        opacity=0.7,color='category',symbol_sequence=['x']*len(df),color_discrete_map={})\n",
    "    fig.update_layout(height=800,\n",
    "        title_text=label)\n",
    "    fig.update_layout()\n",
    "    fig.show()"
   ]
  }
 ],
 "metadata": {
  "hide_input": false,
  "kernelspec": {
   "display_name": "Python 3",
   "language": "python",
   "name": "python3"
  },
  "language_info": {
   "codemirror_mode": {
    "name": "ipython",
    "version": 3
   },
   "file_extension": ".py",
   "mimetype": "text/x-python",
   "name": "python",
   "nbconvert_exporter": "python",
   "pygments_lexer": "ipython3",
   "version": "3.7.5"
  }
 },
 "nbformat": 4,
 "nbformat_minor": 2
}
